{
 "cells": [
  {
   "cell_type": "code",
   "execution_count": 7,
   "metadata": {},
   "outputs": [
    {
     "name": "stdout",
     "output_type": "stream",
     "text": [
      "Enter the value of E1 (in eV): 0\n",
      "Enter the value of E2 (in eV): 1.78\n",
      "The Wavelength of Energy Levels is 6962.157303370786\n",
      "It is Visible\n"
     ]
    }
   ],
   "source": [
    "e1=float(input('Enter the value of E1 (in eV): '))\n",
    "e2=float(input('Enter the value of E2 (in eV): '))\n",
    "h=6.62*(10**(-34))\n",
    "c=3*(10**8)\n",
    "l=10**(-10)\n",
    "j=6.24*(10**18)\n",
    "e=e2-e1\n",
    "wl=(h*c*j)/(e*l)\n",
    "print('The Wavelength of Energy Levels is',wl)\n",
    "wl1=int(wl)\n",
    "if wl1 in range(4000,8001):\n",
    "    print('It is Visible')\n",
    "else:\n",
    "    print('It is Not Visible')"
   ]
  }
 ],
 "metadata": {
  "kernelspec": {
   "display_name": "Python 3 (ipykernel)",
   "language": "python",
   "name": "python3"
  },
  "language_info": {
   "codemirror_mode": {
    "name": "ipython",
    "version": 3
   },
   "file_extension": ".py",
   "mimetype": "text/x-python",
   "name": "python",
   "nbconvert_exporter": "python",
   "pygments_lexer": "ipython3",
   "version": "3.11.4"
  }
 },
 "nbformat": 4,
 "nbformat_minor": 4
}
