{
 "cells": [
  {
   "cell_type": "code",
   "execution_count": 4,
   "id": "4a281b15",
   "metadata": {},
   "outputs": [
    {
     "name": "stdout",
     "output_type": "stream",
     "text": [
      "Enter the value of Wavelength (in Å): 6943\n",
      "Enter the value of Temperature (in K): 300\n",
      "The relative population of two states is 9.850337768020874e-31\n"
     ]
    }
   ],
   "source": [
    "wl=int(input('Enter the value of Wavelength (in Å): '))\n",
    "t=int(input('Enter the value of Temperature (in K): '))\n",
    "h=6.62*(10**(-34))\n",
    "c=3*(10**8)\n",
    "k=1.38*(10**(-23))\n",
    "l=10**(-10)\n",
    "e=(h*c)/(wl*l)\n",
    "x=e/(k*t)\n",
    "#from boltzmann distribution law\n",
    "#Ni = No x e**(d_e/kt)\n",
    "#n=n2/n1\n",
    "import math\n",
    "n=math.e**(-x)\n",
    "print('The relative population of two states is',n)"
   ]
  }
 ],
 "metadata": {
  "kernelspec": {
   "display_name": "Python 3 (ipykernel)",
   "language": "python",
   "name": "python3"
  },
  "language_info": {
   "codemirror_mode": {
    "name": "ipython",
    "version": 3
   },
   "file_extension": ".py",
   "mimetype": "text/x-python",
   "name": "python",
   "nbconvert_exporter": "python",
   "pygments_lexer": "ipython3",
   "version": "3.10.9"
  }
 },
 "nbformat": 4,
 "nbformat_minor": 5
}
