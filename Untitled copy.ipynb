{
 "cells": [
  {
   "cell_type": "code",
   "execution_count": 4,
   "id": "d9dde8bb",
   "metadata": {},
   "outputs": [
    {
     "name": "stdout",
     "output_type": "stream",
     "text": [
      "Enter n1 value: 1.5\n",
      "Enter n2 value: 1.45\n",
      "Numerical aperture 0.38405728739343037\n",
      "Acceptance Angle 22.585227974911316\n",
      "Critical Angle 75.16488841802426\n"
     ]
    }
   ],
   "source": [
    "n1=float(input('Enter n1 value: '))\n",
    "n2=float(input('Enter n2 value: '))\n",
    "import math\n",
    "NA = math.sqrt((n1**2)-(n2**2))\n",
    "ɑ = math.asin(NA)\n",
    "𝞱 = math.asin(n2/n1)\n",
    "print('Numerical aperture', NA)\n",
    "print('Acceptance Angle',math.degrees(ɑ))\n",
    "print('Critical Angle',math.degrees(𝞱))"
   ]
  },
  {
   "cell_type": "code",
   "execution_count": 2,
   "id": "3f6f27f5",
   "metadata": {},
   "outputs": [
    {
     "name": "stdout",
     "output_type": "stream",
     "text": [
      "Enter n1 value: 1.466\n",
      "Enter n2 value: 1.46\n",
      "Enter diameter value: 50\n",
      "Enter wavelength value: 0.85\n",
      "24.4857684013792\n",
      "Number of modes in SIF 299.77642710299006\n"
     ]
    }
   ],
   "source": [
    "n1 = float(input('Enter n1 value: '))\n",
    "n2 = float(input('Enter n2 value: '))\n",
    "d = float(input('Enter diameter value: '))\n",
    "l = float(input('Enter wavelength value: '))\n",
    "import math\n",
    "NA = math.sqrt((n1**2)-(n2**2))\n",
    "v= (d*math.pi)*NA/l\n",
    "print(v)\n",
    "print('Number of modes in SIF',(v**2)/2)"
   ]
  }
 ],
 "metadata": {
  "kernelspec": {
   "display_name": "Python 3 (ipykernel)",
   "language": "python",
   "name": "python3"
  },
  "language_info": {
   "codemirror_mode": {
    "name": "ipython",
    "version": 3
   },
   "file_extension": ".py",
   "mimetype": "text/x-python",
   "name": "python",
   "nbconvert_exporter": "python",
   "pygments_lexer": "ipython3",
   "version": "3.10.9"
  }
 },
 "nbformat": 4,
 "nbformat_minor": 5
}
